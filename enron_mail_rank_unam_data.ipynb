{
 "cells": [
  {
   "cell_type": "code",
   "execution_count": 24,
   "metadata": {
    "collapsed": true
   },
   "outputs": [],
   "source": [
    "from pymongo import MongoClient\n",
    "from bson.son import SON\n",
    "import pprint as pp\n",
    "import datetime as dt\n",
    "import matplotlib.pyplot as plt\n",
    "import numpy as np\n",
    "import os\n",
    "from datetime import date, timedelta"
   ]
  },
  {
   "cell_type": "code",
   "execution_count": 25,
   "metadata": {
    "collapsed": true
   },
   "outputs": [],
   "source": [
    "client = MongoClient(\"mongodb://localhost:27017/\")\n",
    "db = client.enron_mail\n",
    "messages = db.messages"
   ]
  },
  {
   "cell_type": "code",
   "execution_count": 26,
   "metadata": {},
   "outputs": [
    {
     "name": "stdout",
     "output_type": "stream",
     "text": [
      "{u'_id': ObjectId('59b35dc41a62b724314170e5'),\n",
      " u'body': u'Here is our forecast\\n\\n ',\n",
      " u'filename': u'1.',\n",
      " u'headers': {u'Content-Transfer-Encoding': u'7bit',\n",
      "              u'Content-Type': u'text/plain; charset=us-ascii',\n",
      "              u'Date': datetime.datetime(2001, 5, 14, 23, 39),\n",
      "              u'From': u'phillip.allen@enron.com',\n",
      "              u'Message-ID': u'<18782981.1075855378110.JavaMail.evans@thyme>',\n",
      "              u'Mime-Version': u'1.0',\n",
      "              u'Subject': u'',\n",
      "              u'To': u'tim.belden@enron.com',\n",
      "              u'X-FileName': u'pallen (Non-Privileged).pst',\n",
      "              u'X-Folder': u\"\\\\Phillip_Allen_Jan2002_1\\\\Allen, Phillip K.\\\\'Sent Mail\",\n",
      "              u'X-From': u'Phillip K Allen',\n",
      "              u'X-Origin': u'Allen-P',\n",
      "              u'X-To': u'Tim Belden <Tim Belden/Enron@EnronXGate>',\n",
      "              u'X-bcc': u'',\n",
      "              u'X-cc': u''},\n",
      " u'mailbox': u'allen-p',\n",
      " u'subFolder': u'_sent_mail'}\n"
     ]
    }
   ],
   "source": [
    "lowDate = dt.datetime(1998,11,1)\n",
    "highDate = dt.datetime(2004,1,1)\n",
    "\n",
    "doc = messages.find_one()\n",
    "pp.pprint(doc)\n",
    "\n",
    "pipelineTo = [{\"$match\":{\"headers.Date\":{\"$gt\":lowDate,\"$lt\":highDate}}},{\"$unwind\":\"$headers.To\"},\\\n",
    "\t\t\t{\"$group\":{\"_id\":{\"to\":\"$headers.To\",\"year\":{\"$year\":\"$headers.Date\"},\"week\":{\"$week\":\"$headers.Date\"}},\"cnt\":{\"$sum\":1}}},\\\n",
    "\t\t\t{\"$sort\":{\"_id.to\":1}},\\\n",
    "\t\t\t{\"$sort\":{\"cnt\":-1}},\\\n",
    "\t\t\t{\"$sort\":{\"_id.week\":1}},\\\n",
    "\t\t\t{\"$sort\":{\"_id.year\":1}}]\n",
    "\t\t\t#{\"$limit\":500000}]\n",
    "\n",
    "pipelineFrom = [{\"$match\":{\"headers.Date\":{\"$gt\":lowDate,\"$lt\":highDate}}},\\\n",
    "\t\t\t{\"$group\":{\"_id\":{\"from\":\"$headers.From\",\"year\":{\"$year\":\"$headers.Date\"},\"week\":{\"$week\":\"$headers.Date\"}},\"cnt\":{\"$sum\":1}}},\\\n",
    "\t\t\t{\"$sort\":{\"_id.from\":1}},\\\n",
    "\t\t\t{\"$sort\":{\"cnt\":-1}},\\\n",
    "\t\t\t{\"$sort\":{\"_id.week\":1}},\\\n",
    "\t\t\t{\"$sort\":{\"_id.year\":1}}]\n",
    "\t\t\t#{\"$limit\":500000}]\n",
    "\n",
    "currentPipeline = pipelineFrom\n",
    "currentPipelineKey = \"from\"\n"
   ]
  },
  {
   "cell_type": "code",
   "execution_count": 27,
   "metadata": {
    "collapsed": true
   },
   "outputs": [],
   "source": [
    "results = messages.aggregate(currentPipeline, allowDiskUse=True)"
   ]
  },
  {
   "cell_type": "code",
   "execution_count": 29,
   "metadata": {
    "collapsed": true
   },
   "outputs": [],
   "source": [
    "runningWeek = 0\n",
    "last_week_last_date = date(1998,10,1)\n",
    "timeDictionary = dict()\n",
    "currentRankList = list()"
   ]
  },
  {
   "cell_type": "code",
   "execution_count": 30,
   "metadata": {
    "collapsed": true
   },
   "outputs": [],
   "source": [
    "def get_start_end_dates(year, week):\n",
    "    '''\n",
    "    Courtesy: http://stackoverflow.com/questions/30656008/get-start-date-and-end-date-of-the-week-given-week-number-and-year\n",
    "    \n",
    "    Parameter:\n",
    "    The Year and the week number\n",
    "    \n",
    "    Returns:\n",
    "    A tuple with start date and end date of that week\n",
    "    '''\n",
    "    d = date(year,1,1)\n",
    "    if(d.weekday()<= 3):\n",
    "        d = d - timedelta(d.weekday())             \n",
    "    else:\n",
    "        d = d + timedelta(7-d.weekday())\n",
    "    dlt = timedelta(days = (week-1)*7)\n",
    "    return d + dlt,  d + dlt + timedelta(days=6)"
   ]
  },
  {
   "cell_type": "code",
   "execution_count": 31,
   "metadata": {},
   "outputs": [
    {
     "name": "stdout",
     "output_type": "stream",
     "text": [
      "runningWeek  1\n",
      "runningWeek  2\n",
      "runningWeek  3\n",
      "runningWeek  4\n",
      "runningWeek  5\n",
      "runningWeek  6\n",
      "runningWeek  7\n",
      "runningWeek  8\n",
      "runningWeek  9\n",
      "runningWeek  10\n",
      "runningWeek  11\n",
      "runningWeek  12\n",
      "runningWeek  13\n",
      "runningWeek  14\n",
      "runningWeek  15\n",
      "runningWeek  16\n",
      "runningWeek  17\n",
      "runningWeek  18\n",
      "runningWeek  19\n",
      "runningWeek  20\n",
      "runningWeek  21\n",
      "runningWeek  22\n",
      "runningWeek  23\n",
      "runningWeek  24\n",
      "runningWeek  25\n",
      "runningWeek  26\n",
      "runningWeek  27\n",
      "runningWeek  28\n",
      "runningWeek  29\n",
      "runningWeek  30\n",
      "runningWeek  31\n",
      "runningWeek  32\n",
      "runningWeek  33\n",
      "runningWeek  34\n",
      "runningWeek  35\n",
      "runningWeek  36\n",
      "runningWeek  37\n",
      "runningWeek  38\n",
      "runningWeek  39\n",
      "runningWeek  40\n",
      "runningWeek  41\n",
      "runningWeek  42\n",
      "runningWeek  43\n",
      "runningWeek  44\n",
      "runningWeek  45\n",
      "runningWeek  46\n",
      "runningWeek  47\n",
      "runningWeek  48\n",
      "runningWeek  49\n",
      "runningWeek  50\n",
      "runningWeek  51\n",
      "runningWeek  52\n",
      "runningWeek  53\n",
      "runningWeek  54\n",
      "runningWeek  55\n",
      "runningWeek  56\n",
      "runningWeek  57\n",
      "runningWeek  58\n",
      "runningWeek  59\n",
      "runningWeek  60\n",
      "runningWeek  61\n",
      "runningWeek  62\n",
      "runningWeek  63\n",
      "runningWeek  64\n",
      "runningWeek  65\n",
      "runningWeek  66\n",
      "runningWeek  67\n",
      "runningWeek  68\n",
      "runningWeek  69\n",
      "runningWeek  70\n",
      "runningWeek  71\n",
      "runningWeek  72\n",
      "runningWeek  73\n",
      "runningWeek  74\n",
      "runningWeek  75\n",
      "runningWeek  76\n",
      "runningWeek  77\n",
      "runningWeek  78\n",
      "runningWeek  79\n",
      "runningWeek  80\n",
      "runningWeek  81\n",
      "runningWeek  82\n",
      "runningWeek  83\n",
      "runningWeek  84\n",
      "runningWeek  85\n",
      "runningWeek  86\n",
      "runningWeek  87\n",
      "runningWeek  88\n",
      "runningWeek  89\n",
      "runningWeek  90\n",
      "runningWeek  91\n",
      "runningWeek  92\n",
      "runningWeek  93\n",
      "runningWeek  94\n",
      "runningWeek  95\n",
      "runningWeek  96\n",
      "runningWeek  97\n",
      "runningWeek  98\n",
      "runningWeek  99\n",
      "runningWeek  100\n",
      "runningWeek  101\n",
      "runningWeek  102\n",
      "runningWeek  103\n",
      "runningWeek  104\n",
      "runningWeek  105\n",
      "runningWeek  106\n",
      "runningWeek  107\n",
      "runningWeek  108\n",
      "runningWeek  109\n",
      "runningWeek  110\n",
      "runningWeek  111\n",
      "runningWeek  112\n",
      "runningWeek  113\n",
      "runningWeek  114\n",
      "runningWeek  115\n",
      "runningWeek  116\n",
      "runningWeek  117\n",
      "runningWeek  118\n",
      "runningWeek  119\n",
      "runningWeek  120\n",
      "runningWeek  121\n",
      "runningWeek  122\n",
      "runningWeek  123\n",
      "runningWeek  124\n",
      "runningWeek  125\n",
      "runningWeek  126\n",
      "runningWeek  127\n",
      "runningWeek  128\n",
      "runningWeek  129\n",
      "runningWeek  130\n",
      "runningWeek  131\n",
      "runningWeek  132\n",
      "runningWeek  133\n",
      "runningWeek  134\n",
      "runningWeek  135\n",
      "runningWeek  136\n",
      "runningWeek  137\n",
      "runningWeek  138\n",
      "runningWeek  139\n",
      "runningWeek  140\n",
      "runningWeek  141\n",
      "runningWeek  142\n",
      "runningWeek  143\n",
      "runningWeek  144\n",
      "runningWeek  145\n",
      "runningWeek  146\n",
      "runningWeek  147\n",
      "runningWeek  148\n",
      "runningWeek  149\n",
      "runningWeek  150\n",
      "runningWeek  151\n",
      "runningWeek  152\n",
      "runningWeek  153\n",
      "runningWeek  154\n",
      "runningWeek  155\n",
      "runningWeek  156\n",
      "runningWeek  157\n",
      "runningWeek  158\n",
      "runningWeek  159\n",
      "runningWeek  160\n",
      "runningWeek  161\n",
      "runningWeek  162\n",
      "runningWeek  163\n",
      "runningWeek  164\n",
      "runningWeek  165\n",
      "runningWeek  166\n",
      "runningWeek  167\n",
      "runningWeek  168\n",
      "runningWeek  169\n",
      "runningWeek  170\n",
      "runningWeek  171\n",
      "runningWeek  172\n",
      "runningWeek  173\n",
      "runningWeek  174\n",
      "runningWeek  175\n",
      "runningWeek  176\n",
      "runningWeek  177\n",
      "runningWeek  178\n",
      "runningWeek  179\n",
      "runningWeek  180\n",
      "runningWeek  181\n",
      "runningWeek  182\n",
      "runningWeek  183\n",
      "runningWeek  184\n",
      "runningWeek  185\n",
      "runningWeek  186\n",
      "runningWeek  187\n",
      "runningWeek  188\n",
      "runningWeek  189\n",
      "runningWeek  190\n",
      "runningWeek  191\n",
      "runningWeek  192\n",
      "runningWeek  193\n",
      "runningWeek  194\n",
      "runningWeek  195\n",
      "runningWeek  196\n"
     ]
    }
   ],
   "source": [
    "all_date_list = list()\n",
    "all_date_set = set()\n",
    "rankList = list()\n",
    "currentRankList = list()\n",
    "for result in results:\n",
    "    ## Create a 2d list, each row contains recipient mail id in descending order\n",
    "    ## of their rank based on how many emails they sent or received\n",
    "    weekCurrentDocument = result[\"_id\"][\"week\"]\n",
    "    yearCurrentDocument = result[\"_id\"][\"year\"]\n",
    "    current_last_date_of_week = get_start_end_dates(yearCurrentDocument, weekCurrentDocument)[1]\n",
    "    ## using second index of the function because we are interested about the last date of that week\n",
    "    \n",
    "    if current_last_date_of_week > last_week_last_date:\n",
    "        runningWeek += 1\n",
    "        print \"runningWeek \", runningWeek\n",
    "        rankList.append(currentRankList)\n",
    "        last_week_last_date = current_last_date_of_week\n",
    "        currentRankList = list()\n",
    "        currentRankList.append([result[\"_id\"][currentPipelineKey], str(result[\"cnt\"])])\n",
    "        all_date_list.append(current_last_date_of_week)\n",
    "    else:\n",
    "        currentRankList.append([result[\"_id\"][currentPipelineKey], str(result[\"cnt\"])])\n",
    "    #pp.pprint(result)"
   ]
  },
  {
   "cell_type": "code",
   "execution_count": 32,
   "metadata": {},
   "outputs": [
    {
     "data": {
      "text/plain": [
       "196"
      ]
     },
     "execution_count": 32,
     "metadata": {},
     "output_type": "execute_result"
    }
   ],
   "source": [
    "len(rankList)"
   ]
  },
  {
   "cell_type": "code",
   "execution_count": 33,
   "metadata": {},
   "outputs": [
    {
     "data": {
      "text/plain": [
       "196"
      ]
     },
     "execution_count": 33,
     "metadata": {},
     "output_type": "execute_result"
    }
   ],
   "source": [
    "len(all_date_list)"
   ]
  },
  {
   "cell_type": "code",
   "execution_count": 34,
   "metadata": {
    "collapsed": true
   },
   "outputs": [],
   "source": [
    "directory = \"data_rank_enron_weekly\"\n",
    "if not os.path.exists(directory):\n",
    "    os.makedirs(directory)"
   ]
  },
  {
   "cell_type": "code",
   "execution_count": 35,
   "metadata": {
    "collapsed": true
   },
   "outputs": [],
   "source": [
    "filename_all_dates = 'time_list_weekly_enron_mail_from.txt'\n",
    "with open(filename_all_dates,'w') as f_date:\n",
    "    for i,date in enumerate(all_date_list):\n",
    "        current_date_string = date.strftime('%d.%m.%Y')\n",
    "        f_date.write(current_date_string + \"\\n\")\n",
    "        filename_rank_current_week = directory + \"/\" + current_date_string\n",
    "        with open(filename_rank_current_week, 'w') as f_weekly_rank:\n",
    "            for mail_address_and_count in rankList[i]:\n",
    "                f_weekly_rank.write(\"\\t\".join(mail_address_and_count)+\"\\n\")"
   ]
  }
 ],
 "metadata": {
  "anaconda-cloud": {},
  "kernelspec": {
   "display_name": "Python 2",
   "language": "python",
   "name": "python2"
  },
  "language_info": {
   "codemirror_mode": {
    "name": "ipython",
    "version": 2
   },
   "file_extension": ".py",
   "mimetype": "text/x-python",
   "name": "python",
   "nbconvert_exporter": "python",
   "pygments_lexer": "ipython2",
   "version": "2.7.14"
  }
 },
 "nbformat": 4,
 "nbformat_minor": 1
}
